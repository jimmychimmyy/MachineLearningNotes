{
 "cells": [
  {
   "cell_type": "markdown",
   "metadata": {},
   "source": [
    "# Implementation of Linear Regression"
   ]
  },
  {
   "cell_type": "code",
   "execution_count": 1,
   "metadata": {},
   "outputs": [],
   "source": [
    "import numpy as np\n",
    "import pandas as pd\n",
    "import matplotlib.pyplot as plt\n",
    "from sklearn.model_selection import train_test_split"
   ]
  },
  {
   "cell_type": "markdown",
   "metadata": {},
   "source": [
    "Recall that linear regression has the form: **h(x) ≈ y = b0 + b1 * x**"
   ]
  },
  {
   "cell_type": "markdown",
   "metadata": {},
   "source": [
    "## Simple Linear Regression"
   ]
  },
  {
   "cell_type": "code",
   "execution_count": 2,
   "metadata": {},
   "outputs": [],
   "source": [
    "def simple_linear_regression(X_train, y_train, X_test):\n",
    "    pred = [];\n",
    "    b0, b1 = compute_coeff(X_train, y_train)\n",
    "    for t in X_test:\n",
    "        y_delta = b0 + b1 * t\n",
    "        pred.append(y_delta)\n",
    "    return pred\n",
    "    \n",
    "def compute_coeff(X_train, y_train):\n",
    "    x_mean = np.mean(X_train)\n",
    "    y_mean = np.mean(X_train)\n",
    "    b1 = np.cov(X_train, y_train)[0, 1] / np.var(X_train)\n",
    "    b0 = y_mean - b1 * x_mean\n",
    "    return b0, b1\n",
    "\n",
    "def RMSE(y_actual, y_pred):\n",
    "    error = 0\n",
    "    for i in range(len(y_pred)):\n",
    "        error += np.square(y_pred[i] - y_actual[i])\n",
    "    mean_error = error / len(y_actual)\n",
    "    return np.sqrt(mean_error)"
   ]
  },
  {
   "cell_type": "markdown",
   "metadata": {},
   "source": [
    "### Testing using data from https://www.kaggle.com/c/house-prices-advanced-regression-techniques\n",
    "\n",
    "I will only be using the variables LotArea and SalePrice for simple linear regression.\n",
    "\n",
    "Also, I will be using sklearn's prebuilt train_test_split to partition training and testing."
   ]
  },
  {
   "cell_type": "code",
   "execution_count": 3,
   "metadata": {},
   "outputs": [
    {
     "name": "stdout",
     "output_type": "stream",
     "text": [
      "   LotArea  SalePrice\n",
      "0     8450     208500\n",
      "1     9600     181500\n",
      "2    11250     223500\n",
      "3     9550     140000\n",
      "4    14260     250000 \n",
      "\n",
      "RMSE: 189792.17011070307\n",
      "[6335.74766000534, 13686.491591464954, 7380.387479520421, -196.12110157798088, 14914.80434627939, -6909.749538717953, 20199.227755621258, -5400.1876017263785, -6058.348953215735, 21741.31510823876, 2275.8104859925097, 9098.494728466474, 24676.25555354304, 9697.345027932082, 5664.193490317073, 7309.5968690404625, 6010.4935037460655, 3630.3983838252534, 6046.8454388573955, 10642.495340826681, 15349.114307872656, 7456.917869228488, 6754.751543656996, 1464.588355087024, 7489.443284854417, 5337.026074315096, 7263.678635215623, 26853.545140737482, 10975.402536056761, -1669.3311034582248, 4468.406151128562, 10565.964951118614, 24733.653345824085, 6452.456504310139, 16068.499971128465, 7839.56981776881, 4013.0503323655776, 5926.310075067195, 18058.290103538147, 14539.805436709874, 2176.3209793720252, 7227.326700104295, 8907.168754196315, 14543.631956195277, 9264.948326081514, 9178.851637659944, 5161.006177986546, 5050.037112909853, 16024.494997046328, 11941.598706121076, 4013.0503323655776, 9023.877598501113, -4663.582600786256, 19889.279677303595, -1271.3730769762897, 12517.489888674263, 8063.421207664898, 20105.478028228878, 5197.358113097878, 4013.0503323655776, 2337.034797758961, 4587.028255176063, 8587.654377165141, 18146.300051702423, 19521.933806704885, 14373.351839094834, 9626.55441745212, 13663.532474552532, 10732.418548733654, -3582.590846159842, 3664.837059193882, 6021.973062202274, 6678.221153948929, 6584.471426556551, 14954.982800876125, -4238.8389379064965, 8321.711272929617, 10407.16439247438, 5438.428840678282, 4013.0503323655776, -6548.143447347348, 7393.780297719335, 31850.9795886741, 1303.8745367000884, 5245.189606665419, 1946.7298102478308, 10763.030704616882, 322.37228869415776, -1277.1128562043941, 11480.50310812999, 5734.984100797032, 10887.392587892486, 6144.4216857351785, 10097.216314156718, 10858.693691751963, 9823.620170950388, 4135.49895589848, -2616.394676095526, 7437.785271801473, 15119.523138748464, 13493.25235745209, 5845.953165873727, 16355.488932533706, 1946.7298102478308, 21150.11784774396, 6308.962023607517, 5409.729944537758, 2794.3038762646465, 7925.666506190384, 12442.872758708902, 1946.7298102478308, 6366.359815888565, 3433.332630326988, 1946.7298102478308, 7925.666506190384, 4013.0503323655776, 1717.1386411236363, 6106.156490881145, 7322.989687239373, 10623.362743399663, -1998.4117792029037, -1271.3730769762897, 7022.607907635222, 15211.359606398142, 12157.797057046359, 16116.331464696006, 7064.699621974654, 7648.243843498651, 8461.379234146836, 9638.033975908329, 6155.901244191387, 12131.011420648538, 10135.481509010751, 798.7739646268601, 7456.917869228488, 14069.143540005276, 7014.954868664416, 7839.56981776881, 5782.8155943645725, 31439.628743993253, 19200.506169931014, 15683.934762845442, 7851.049376225019, 6308.962023607517, 56532.03026952497, 5233.710048209208, 12240.06722598253, 21395.015094809765, 4013.0503323655776, 6018.146542716871, 12431.393200252693, 4759.221632019207, 52739.94945949035, 12431.393200252693, 8960.74002699196, 7456.917869228488, 14918.630865764793, 11876.547874869222, 7644.417324013248, 9370.177611930103, 11377.187082024102, 3590.2199292285204, 8451.812935433329, 6618.910101925179, 6462.022803023647, 5543.658126526871, 4393.789021163198, 8581.914597937037, 20956.878613731096, 36328.007386595884, 13919.90928007455, 760.5087697728286, 1717.1386411236363, -6031.563316817912, 10667.3677174818, 22992.586979965618, 6961.3835958687705, 16560.20772500278, 4013.0503323655776, -5712.048939786742, 8126.5587791740545, 6905.89906333042, 10862.520211237366, -3299.428404240003, 11985.603680203214, 9944.155534740588, 15616.970671850882, -2023.284155858024, 3544.301695403681, -5933.987069940129, -6088.96110909896, 569.1827955026674, 8604.873714849458, 9140.58644280591, 532.8308603913356, 5161.006177986546, -3418.0505082875034, 6500.287997877678, -4701.847795640288, 4933.328268605055, 125621.75283822307, 32084.397277283697, 10690.326834394222, 7839.56981776881, 6404.6250107425985, 8891.8626762547, 9041.096936185426, 7104.878076571389, 6308.962023607517, 8369.542766497158, 16016.841958075522, 5920.570295839088, 8069.160986893006, -3582.590846159842, 65053.68916351796, 7456.917869228488, -2258.615104210323, 5855.519464587234, 3496.4702018361404, 9609.335079767807, 15779.59774998052, 2176.3209793720252, 15079.344684151729, 1181.4259131671843, 7313.423388525865, 13962.000994413986, 4587.028255176063, 10900.7854060914, 7705.641635779699, 6905.89906333042, 11474.763328901881, 4940.981307575861, 4265.60061840219, 23030.852174819647, 9448.621261380871, 6940.3377386990505, 3175.042565062269, 7588.932791474897, 17719.64312907996, 5566.61724343929, 6538.5531927317115, 11809.583783874667, 8323.624532672318, 16414.79998455746, 7686.50903835268, 3630.3983838252534, 7743.9068306337285, 16661.610491365966, -1680.8106619144346, 1717.1386411236363, 32195.366342360398, 10870.173250208172, 7732.42727217752, 569.1827955026674, 12341.469992345716, -2027.1106753434278, -2205.0438314146777, -6548.143447347348, 3923.1271244586005, 9370.177611930103, 17455.613284587136, 11761.752290307126, 10613.796444686155, 14727.30489149463, 8252.83392219236, 18167.34590887214, -1152.7509729287885, -1277.1128562043941, 10200.532340262605, 5065.343190851467, 16814.671270782095, 559.6164967891582, 8748.36819555208, -4803.2505620034735, 9067.88257258325, 6978.602933553084, -4937.1787439925865, 5199.27137284058, 38250.833428011014, 11149.509172642607, 17034.69614119278, -6829.3926295244855, 5782.8155943645725, 7499.009583567924, 10588.924068031036, 7755.386389089941, 14000.266189268019, 1573.6441604210158, 21152.031107486662, 5924.396815324493, 7617.631687615423, 5773.249295651065]\n"
     ]
    },
    {
     "data": {
      "image/png": "[encoded data removed]",
      "text/plain": [
       "<matplotlib.figure.Figure at 0x10b579f28>"
      ]
     },
     "metadata": {},
     "output_type": "display_data"
    }
   ],
   "source": [
    "def run_simple_linear_regression():\n",
    "    # import data keeping only LotArea and SalePrice\n",
    "    df = pd.read_csv(\"data.csv\")\n",
    "    df = df[['LotArea','SalePrice']]\n",
    "    print(df.head(), \"\\n\")\n",
    "    \n",
    "    X = list(df['LotArea'])\n",
    "    y = list(df['SalePrice'])\n",
    "    \n",
    "    # partition data and train\n",
    "    X_train, X_test, y_train, y_test = train_test_split(X, y, test_size=0.2, random_state=42)\n",
    "    \n",
    "    y_pred = simple_linear_regression(X_train, y_train, X_test)\n",
    "    \n",
    "    # evaluate\n",
    "    rmse = RMSE(y_test, y_pred)\n",
    "    print(\"RMSE:\", rmse)\n",
    "    \n",
    "    print(y_pred)\n",
    "    \n",
    "    ax = plt.scatter(X_test, y_pred)\n",
    "    ax2 = plt.scatter(X_test, y_test)\n",
    "    \n",
    "run_simple_linear_regression()"
   ]
  },
  {
   "cell_type": "markdown",
   "metadata": {},
   "source": [
    "## Multivariate linear Regression\n",
    "\n",
    "most commonly used form of linear regression used to model the relationship between one dependent variable and multiple independent variables\n",
    "\n",
    "has the form: **h(w) = y = E(y|x) = w0 + (w1)(X1) + (w2)(X2) + ... (wn)(Xn)**\n",
    "\n",
    "Cost Function has the form: **J(w0, w1, ..., wn) = (1/2m) * ∑(i->m) (h(wi)-yi)^2**, where m is the number of instances"
   ]
  },
  {
   "cell_type": "code",
   "execution_count": 5,
   "metadata": {},
   "outputs": [],
   "source": [
    "# want to use gradient descent\n",
    "def multivar_linear_regression(X_train, y_train, learning_rate=0.0001, epochs=1000):\n",
    "    theta = np.random.uniform(low=0.0, high=0.0, size=(len(X_train[0]), 1))\n",
    "    for i in range(0, epochs):\n",
    "        theta = gradient_descent(X_train, y_train, theta, learning_rate)\n",
    "        print(theta)\n",
    "    return theta\n",
    "\n",
    "def hypothesis(X_instance, theta):\n",
    "    # h_theta(x) = transpose(theta) * X\n",
    "    # X_instance is a 1xn matrix of features\n",
    "    # theta is a 1xn matrix of weights\n",
    "    #X_instance = np.reshape(len(X_instance), 1)\n",
    "    return np.dot(np.transpose(theta), X_instance)\n",
    "        \n",
    "def gradient_descent(X_train, y_train, theta, learn_rate):\n",
    "    theta_ = []\n",
    "    for j in range(0, len(X_train[0])):\n",
    "        theta_.append(theta[j] - learn_rate * step(X_train, y_train, theta, j))\n",
    "        #print(step(X_train, y_train, theta, j))\n",
    "    return theta_\n",
    "\n",
    "# this is the partial derivative of the cost function with respect to jth element of theta    \n",
    "def step(X_train, y_train, theta, j):\n",
    "    res = 0\n",
    "    for i in range (0, len(X_train)):\n",
    "        #print(\"X_train[i]\", X_train[i])\n",
    "        #print(\"y_train[i]\", y_train[i])\n",
    "        #print(\"X_train.item\", X_train.item(i, j))\n",
    "        #print(\"hypo\", hypothesis(X_train[i], theta))\n",
    "        #print(\"actual\", y_train[i])\n",
    "        #print((hypothesis(X_train[i], theta) - y_train[i]))\n",
    "        res += (hypothesis(X_train[i, :], theta) - y_train[i]) * X_train.item(i,j)\n",
    "        #print(\"res\", res)\n",
    "    #print(res/len(X_train))\n",
    "    return (res/len(X_train))\n",
    "\n",
    "# TODO there is a change it is not working because the data is not normalized\n",
    "def normalize(df, col):\n",
    "    raise NotImplementedError\n",
    "\n",
    "def cost_function(X_train, y_train, theta):\n",
    "    sum_of_squared_diff = 0\n",
    "    for i in range(0, len(X_train)):\n",
    "        sum_of_squared_diff += (hypothesis(X_train[i, :], theta) - y_train[i]) ** 2\n",
    "    return (1/2 * len(X)) * sum_of_squared_diff\n",
    "    "
   ]
  },
  {
   "cell_type": "code",
   "execution_count": null,
   "metadata": {},
   "outputs": [],
   "source": [
    "#import numpy as np\n",
    "#import pandas as pd\n",
    "#from sklearn.model_selection import train_test_split\n",
    "\n",
    "class Multivariable_Linear_Regression():\n",
    "\n",
    "    def __init__(self, df, target_feature, test_size=0.2, learning_rate=0.001):\n",
    "        self.test_size = test_size\n",
    "        self.df = df\n",
    "        self.target_feature = target_feature\n",
    "        self.theta = np.zeros((len(df.columns, 1)), dtype=np.float32)\n",
    "        self.X_train = None\n",
    "        self.X_test = None\n",
    "        self.y_train = None\n",
    "        self.y_test = None\n",
    "        self.lr = learning_rate\n",
    "        \n",
    "    def split_train_test(self):\n",
    "        y = self.df.as_matrix(columns=[target_feature])\n",
    "        X = self.df.drop(target_feature, axis=1).as_matrix()\n",
    "        X_train, X_test, y_train, y_test = train_test_split(X, y, \n",
    "                                                            test_size=self.test_size, random_state=42)\n",
    "        self.X_train = X_train\n",
    "        self.X_test = X_test\n",
    "        self.y_train = y_train\n",
    "        self.y_test = y_test\n",
    "        \n",
    "    def predict(self, x):\n",
    "        return np.dot(np.transpose(self.theta), x)\n",
    "    \n",
    "    def cost_function(self):\n",
    "        preds = predict(self.X_train)\n",
    "        error = (preds - y_train) ** 2\n",
    "        return error.sum() / len(X_train)\n",
    "        \n",
    "    def gradient_descent(self):\n",
    "        raise NotImplementedError\n",
    "        \n",
    "    def normalize(self):\n",
    "        raise NotImplementedError\n",
    "\n",
    "    def train(self):\n",
    "        raise NotImplementedError\n",
    "        \n",
    "        "
   ]
  },
  {
   "cell_type": "code",
   "execution_count": 6,
   "metadata": {
    "scrolled": false
   },
   "outputs": [
    {
     "name": "stdout",
     "output_type": "stream",
     "text": [
      "   LotArea  GarageArea  SalePrice\n",
      "0     8450         548     208500\n",
      "1     9600         460     181500\n",
      "2    11250         608     223500\n",
      "3     9550         642     140000\n",
      "4    14260         836     250000 \n",
      "\n",
      "(1460, 1)\n",
      "(1460, 2)\n"
     ]
    }
   ],
   "source": [
    "def run_multivar_linear_regression():\n",
    "    df = pd.read_csv(\"data.csv\")\n",
    "    df.drop(['Id'], axis=1, inplace=True)\n",
    "    #df = df[['LotArea', 'YearBuilt', 'GarageArea', 'YrSold', 'SalePrice']]\n",
    "    df = df[['LotArea', 'GarageArea', 'SalePrice']]\n",
    "    df = df.dropna()\n",
    "    \n",
    "    print(df.head(), \"\\n\")\n",
    "    \n",
    "    y = df.as_matrix(columns=['SalePrice'])\n",
    "    print(y.shape)\n",
    "    X = df.drop('SalePrice', axis=1).as_matrix()\n",
    "    print(X.shape)\n",
    "    \n",
    "    X_train, X_test, y_train, y_test = train_test_split(X, y, test_size=0.2, random_state=42)\n",
    "    #theta = multivar_linear_regression(X_train, y_train)\n",
    "    #print(theta)\n",
    "    \n",
    "run_multivar_linear_regression()"
   ]
  },
  {
   "cell_type": "code",
   "execution_count": null,
   "metadata": {},
   "outputs": [],
   "source": []
  }
 ],
 "metadata": {
  "kernelspec": {
   "display_name": "Python 3",
   "language": "python",
   "name": "python3"
  },
  "language_info": {
   "codemirror_mode": {
    "name": "ipython",
    "version": 3
   },
   "file_extension": ".py",
   "mimetype": "text/x-python",
   "name": "python",
   "nbconvert_exporter": "python",
   "pygments_lexer": "ipython3",
   "version": "3.6.5"
  }
 },
 "nbformat": 4,
 "nbformat_minor": 2
}
