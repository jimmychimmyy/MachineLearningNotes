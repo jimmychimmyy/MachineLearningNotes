{
 "cells": [
  {
   "cell_type": "code",
   "execution_count": 2,
   "metadata": {},
   "outputs": [],
   "source": [
    "import numpy as np\n",
    "import pandas as pd\n",
    "import math"
   ]
  },
  {
   "cell_type": "code",
   "execution_count": 3,
   "metadata": {},
   "outputs": [],
   "source": [
    "class NeuralNetwork(object):\n",
    "\n",
    "    def __init__(self, x, y):\n",
    "        self.input = x\n",
    "        self.weights_1 = np.random.rand(self.input.shape[1], self.input.shape[1] + 1)\n",
    "        self.weights_2 = np.random.rand(self.input.shape[1] + 1, 1)\n",
    "        self.y = y\n",
    "        self.output = np.zeros(y.shape)\n",
    "        for layer in num_layers:\n",
    "            self.weight\n",
    "\n",
    "    def train(self):\n",
    "        self.layer = self.sigmoid(np.dot(self.input, self.weights_1))\n",
    "        self.output = self.sigmoid(np.dot(self.layer, self.weights_2))\n",
    "        \n",
    "    def sigmoid(self, x):\n",
    "        return 1 / (1 + math.exp(-x))\n",
    "\n",
    "    def calculate_loss(self):\n",
    "        raise NotImplementedError\n",
    "\n",
    "    def backpropagate(self):\n",
    "        raise NotImplementedError\n"
   ]
  },
  {
   "cell_type": "code",
   "execution_count": null,
   "metadata": {},
   "outputs": [],
   "source": []
  }
 ],
 "metadata": {
  "kernelspec": {
   "display_name": "Python 3",
   "language": "python",
   "name": "python3"
  },
  "language_info": {
   "codemirror_mode": {
    "name": "ipython",
    "version": 3
   },
   "file_extension": ".py",
   "mimetype": "text/x-python",
   "name": "python",
   "nbconvert_exporter": "python",
   "pygments_lexer": "ipython3",
   "version": "3.6.5"
  }
 },
 "nbformat": 4,
 "nbformat_minor": 2
}
