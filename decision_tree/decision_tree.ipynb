{
 "cells": [
  {
   "cell_type": "markdown",
   "metadata": {},
   "source": [
    "# Decision Tree Implementation"
   ]
  },
  {
   "cell_type": "code",
   "execution_count": 31,
   "metadata": {},
   "outputs": [],
   "source": [
    "import numpy as np\n",
    "import pandas as pd\n",
    "import matplotlib.pyplot as plt\n",
    "from sklearn.model_selection import train_test_split"
   ]
  },
  {
   "cell_type": "code",
   "execution_count": 32,
   "metadata": {},
   "outputs": [],
   "source": [
    "class Decision_Tree():\n",
    "    def __init__(self, X, y):\n",
    "        self.X = X\n",
    "        self.y = y\n",
    "        raise NotImplementedError\n",
    "        \n",
    "    def cost_function_entropy(self):\n",
    "        raise NotImplementedError\n",
    "        \n",
    "    # assumes all feature values are continuous\n",
    "    def cost_function_gini(self, subsets, n_classes=2):\n",
    "        total_instances = sum(len(s) for s in subsets)\n",
    "        gini = 0\n",
    "        for s in subsets:\n",
    "            if len(s) == 0:\n",
    "                \n",
    "        #proportion = # classes / # instances\n",
    "        \n",
    "        # for each child node\n",
    "            #gini = sum(proportion * (1.0 - proportion))\n",
    "            #gini = 1 - sum(proportion**2)\n",
    "        raise NotImplementedError\n",
    "        \n",
    "    # assumes all feature values are discrete\n",
    "    def compute_information_gain(self):\n",
    "        raise NotImplementedError\n",
    "        \n",
    "    def split(self):\n",
    "        raise NotImplementedError\n",
    "        \n",
    "    def predict(self):\n",
    "        raise NotImplementedError\n",
    "        \n",
    "    def train(self, cost=\"gini\"):\n",
    "        if cost == \"gini\":\n",
    "            raise NotImplementedError\n",
    "        elif cost == \"entropy\":\n",
    "            raise NotImplementedError"
   ]
  },
  {
   "cell_type": "markdown",
   "metadata": {},
   "source": [
    "Using iris dataset from https://www.kaggle.com/uciml/iris"
   ]
  },
  {
   "cell_type": "code",
   "execution_count": 34,
   "metadata": {},
   "outputs": [
    {
     "name": "stdout",
     "output_type": "stream",
     "text": [
      "   SepalLengthCm  SepalWidthCm  PetalLengthCm  PetalWidthCm      Species\n",
      "0            5.1           3.5            1.4           0.2  Iris-setosa\n",
      "1            4.9           3.0            1.4           0.2  Iris-setosa\n",
      "2            4.7           3.2            1.3           0.2  Iris-setosa\n",
      "3            4.6           3.1            1.5           0.2  Iris-setosa\n",
      "4            5.0           3.6            1.4           0.2  Iris-setosa \n",
      "\n",
      "SepalLengthCm 33\n",
      "SepalWidthCm 21\n",
      "PetalLengthCm 29\n",
      "PetalWidthCm 18\n",
      "Species 2\n"
     ]
    },
    {
     "ename": "NotImplementedError",
     "evalue": "",
     "output_type": "error",
     "traceback": [
      "\u001b[0;31m---------------------------------------------------------------------------\u001b[0m",
      "\u001b[0;31mNotImplementedError\u001b[0m                       Traceback (most recent call last)",
      "\u001b[0;32m<ipython-input-34-64ec488f0184>\u001b[0m in \u001b[0;36m<module>\u001b[0;34m()\u001b[0m\n\u001b[1;32m     21\u001b[0m     \u001b[0mclf\u001b[0m \u001b[0;34m=\u001b[0m \u001b[0mDecision_Tree\u001b[0m\u001b[0;34m(\u001b[0m\u001b[0mX_train\u001b[0m\u001b[0;34m,\u001b[0m \u001b[0my_train\u001b[0m\u001b[0;34m)\u001b[0m\u001b[0;34m\u001b[0m\u001b[0m\n\u001b[1;32m     22\u001b[0m \u001b[0;34m\u001b[0m\u001b[0m\n\u001b[0;32m---> 23\u001b[0;31m \u001b[0mrun\u001b[0m\u001b[0;34m(\u001b[0m\u001b[0;34m)\u001b[0m\u001b[0;34m\u001b[0m\u001b[0m\n\u001b[0m",
      "\u001b[0;32m<ipython-input-34-64ec488f0184>\u001b[0m in \u001b[0;36mrun\u001b[0;34m()\u001b[0m\n\u001b[1;32m     19\u001b[0m                                                             test_size=0.2, random_state=42)\n\u001b[1;32m     20\u001b[0m \u001b[0;34m\u001b[0m\u001b[0m\n\u001b[0;32m---> 21\u001b[0;31m     \u001b[0mclf\u001b[0m \u001b[0;34m=\u001b[0m \u001b[0mDecision_Tree\u001b[0m\u001b[0;34m(\u001b[0m\u001b[0mX_train\u001b[0m\u001b[0;34m,\u001b[0m \u001b[0my_train\u001b[0m\u001b[0;34m)\u001b[0m\u001b[0;34m\u001b[0m\u001b[0m\n\u001b[0m\u001b[1;32m     22\u001b[0m \u001b[0;34m\u001b[0m\u001b[0m\n\u001b[1;32m     23\u001b[0m \u001b[0mrun\u001b[0m\u001b[0;34m(\u001b[0m\u001b[0;34m)\u001b[0m\u001b[0;34m\u001b[0m\u001b[0m\n",
      "\u001b[0;32m<ipython-input-32-d9dc8a8c1cfb>\u001b[0m in \u001b[0;36m__init__\u001b[0;34m(self, X, y)\u001b[0m\n\u001b[1;32m      3\u001b[0m         \u001b[0mself\u001b[0m\u001b[0;34m.\u001b[0m\u001b[0mX\u001b[0m \u001b[0;34m=\u001b[0m \u001b[0mX\u001b[0m\u001b[0;34m\u001b[0m\u001b[0m\n\u001b[1;32m      4\u001b[0m         \u001b[0mself\u001b[0m\u001b[0;34m.\u001b[0m\u001b[0my\u001b[0m \u001b[0;34m=\u001b[0m \u001b[0my\u001b[0m\u001b[0;34m\u001b[0m\u001b[0m\n\u001b[0;32m----> 5\u001b[0;31m         \u001b[0;32mraise\u001b[0m \u001b[0mNotImplementedError\u001b[0m\u001b[0;34m\u001b[0m\u001b[0m\n\u001b[0m\u001b[1;32m      6\u001b[0m \u001b[0;34m\u001b[0m\u001b[0m\n\u001b[1;32m      7\u001b[0m     \u001b[0;32mdef\u001b[0m \u001b[0mcompute_entropy\u001b[0m\u001b[0;34m(\u001b[0m\u001b[0mself\u001b[0m\u001b[0;34m)\u001b[0m\u001b[0;34m:\u001b[0m\u001b[0;34m\u001b[0m\u001b[0m\n",
      "\u001b[0;31mNotImplementedError\u001b[0m: "
     ]
    }
   ],
   "source": [
    "def run():\n",
    "    df = pd.read_csv(\"iris.csv\")\n",
    "    df = df.dropna()\n",
    "    df = df.drop(['Id'], axis=1)\n",
    "    df = df[df['Species'] != 'Iris-versicolor'] # doing this to make it a binary classification problem\n",
    "    print(df.head(), \"\\n\")\n",
    "    \n",
    "    for col in df.columns:\n",
    "        print(col, df[col].nunique())\n",
    "    \n",
    "    # map species to ints\n",
    "    df.loc[df['Species'] == 'Iris-virginica', 'Species'] = 0\n",
    "    df.loc[df['Species'] == 'Iris-setosa', 'Species'] = 1\n",
    "    \n",
    "    # split train test\n",
    "    y = df.as_matrix(columns=['Species'])\n",
    "    X = df.drop(['Species'], axis=1).as_matrix()\n",
    "    X_train, X_test, y_train, y_test = train_test_split(X, y, \n",
    "                                                            test_size=0.2, random_state=42)\n",
    "    \n",
    "    clf = Decision_Tree(X_train, y_train)\n",
    "    clf.train()\n",
    "    \n",
    "run()"
   ]
  },
  {
   "cell_type": "code",
   "execution_count": null,
   "metadata": {},
   "outputs": [],
   "source": []
  }
 ],
 "metadata": {
  "kernelspec": {
   "display_name": "Python 3",
   "language": "python",
   "name": "python3"
  },
  "language_info": {
   "codemirror_mode": {
    "name": "ipython",
    "version": 3
   },
   "file_extension": ".py",
   "mimetype": "text/x-python",
   "name": "python",
   "nbconvert_exporter": "python",
   "pygments_lexer": "ipython3",
   "version": "3.6.5"
  }
 },
 "nbformat": 4,
 "nbformat_minor": 2
}
